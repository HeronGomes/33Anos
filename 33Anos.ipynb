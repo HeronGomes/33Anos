{
 "cells": [
  {
   "cell_type": "code",
   "execution_count": 275,
   "id": "expensive-temple",
   "metadata": {},
   "outputs": [],
   "source": [
    "import cv2 as cv\n",
    "import numpy as np\n",
    "from uuid import uuid1"
   ]
  },
  {
   "cell_type": "code",
   "execution_count": 260,
   "id": "graduate-warehouse",
   "metadata": {},
   "outputs": [],
   "source": [
    "img_referencia = cv.imread('./Eu.jpg')\n",
    "img_referencia = cv.resize(img_referencia,(400,400))"
   ]
  },
  {
   "cell_type": "code",
   "execution_count": 268,
   "id": "pursuant-asthma",
   "metadata": {},
   "outputs": [],
   "source": [
    "def gera_linha_profunda(x0_param,y0_param,y1_param,y2_param,imagemParam,profundidade):\n",
    "        \n",
    "    xSteps = np.linspace(x0_param,y1_param,profundidade, dtype='int')\n",
    "    ySteps = np.linspace(y0_param,y2_param,profundidade, dtype='int')\n",
    "    \n",
    "    \n",
    "    for aux_x in range(1,len(xSteps)):\n",
    "        for aux_y in range(1,len(ySteps)):\n",
    "    \n",
    "            x0 = xSteps[aux_x - 1]\n",
    "            y0 = ySteps[aux_y - 1]\n",
    "\n",
    "            x1 = xSteps[aux_x]\n",
    "            y1 = ySteps[aux_y]\n",
    "            \n",
    "            roi = imagemParam[y0:y1,x0:x1]\n",
    "            (B,G,R) = [int(x) for x in cv.mean(roi)[:3]]\n",
    "            \n",
    "            imagemParam = cv.rectangle(imagemParam,(x0,y0),(x1,y1),(B,G,R),-1)\n",
    "            \n",
    "    \n",
    "    profundidade = np.random.randint(3,10)\n",
    "    \n",
    "    xSteps = np.linspace(x0_param,y1_param,profundidade, dtype='int')\n",
    "    ySteps = np.linspace(y0_param,y2_param,profundidade, dtype='int')\n",
    "    \n",
    "    for aux_x in range(1,len(xSteps)):\n",
    "        for aux_y in range(1,len(ySteps)):\n",
    "    \n",
    "            x0 = xSteps[aux_x - 1]\n",
    "            y0 = ySteps[aux_y - 1]\n",
    "\n",
    "            x1 = xSteps[aux_x]\n",
    "            y1 = ySteps[aux_y]\n",
    "    \n",
    "            imagemParam = cv.rectangle(imagemParam,(x0,y0),(x1,y1),(0,0,0),1)\n",
    "    \n",
    "    \n",
    "    #cv.imshow('Quadro',imagemParam)\n",
    "    #cv.waitKey(50)\n",
    "            \n",
    "    return imagemParam"
   ]
  },
  {
   "cell_type": "code",
   "execution_count": 269,
   "id": "responsible-leadership",
   "metadata": {},
   "outputs": [],
   "source": [
    "def gera_linha(x0,y0,x1,y1,imagemParam,profundidade):   \n",
    "    \n",
    "    \n",
    "    imagemParam = cv.rectangle(imagemParam,(x0,y0),(x1,y1),(0,0,0),1)\n",
    "    \n",
    "    \n",
    "        \n",
    "    imagemParam = gera_linha_profunda(x0,y0,x1,y1,imagemParam,profundidade)\n",
    "    \n",
    "    return imagemParam\n",
    "    "
   ]
  },
  {
   "cell_type": "code",
   "execution_count": 291,
   "id": "engaging-marina",
   "metadata": {},
   "outputs": [],
   "source": [
    "imagemParam = img_referencia.copy()\n",
    "(h,w) = imagemParam.shape[:2] \n",
    "\n",
    "bloco_x = np.random.randint(3,15)\n",
    "bloco_y = np.random.randint(3,15)\n",
    "\n",
    "xSteps = np.linspace(0,w,bloco_x, dtype='int')\n",
    "ySteps = np.linspace(0,h,bloco_y, dtype='int')\n",
    "\n",
    "\n",
    "\n",
    "for aux_x in range(1,len(xSteps)):\n",
    "    for aux_y in range(1,len(ySteps)):\n",
    "        \n",
    "        x0 = xSteps[aux_x-1]\n",
    "        y0 = ySteps[aux_y-1]\n",
    "        \n",
    "        x1 = xSteps[aux_x]\n",
    "        y1 = ySteps[aux_y]\n",
    "        \n",
    "        imagemParam = gera_linha(x0,y0,x1,y1,imagemParam,20)\n",
    "\n",
    "cv.imshow('Quadro',imagemParam)\n",
    "key = cv.waitKey()\n",
    "\n",
    "if key == ord('s'):\n",
    "    cv.imwrite('Heron33_'+str(uuid1())+'.jpg',imagemParam)\n",
    "\n",
    "cv.destroyAllWindows()"
   ]
  },
  {
   "cell_type": "code",
   "execution_count": null,
   "id": "molecular-banks",
   "metadata": {},
   "outputs": [],
   "source": []
  }
 ],
 "metadata": {
  "kernelspec": {
   "display_name": "Python 3",
   "language": "python",
   "name": "python3"
  },
  "language_info": {
   "codemirror_mode": {
    "name": "ipython",
    "version": 3
   },
   "file_extension": ".py",
   "mimetype": "text/x-python",
   "name": "python",
   "nbconvert_exporter": "python",
   "pygments_lexer": "ipython3",
   "version": "3.9.1"
  }
 },
 "nbformat": 4,
 "nbformat_minor": 5
}
